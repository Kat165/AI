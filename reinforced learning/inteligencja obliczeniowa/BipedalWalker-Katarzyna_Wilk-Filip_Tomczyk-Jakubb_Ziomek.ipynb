{
  "cells": [
    {
      "cell_type": "markdown",
      "metadata": {
        "id": "De3CcVof8q1G"
      },
      "source": [
        "Instalujemy wykorzystywane pakiety"
      ]
    },
    {
      "cell_type": "code",
      "execution_count": null,
      "metadata": {
        "id": "dwBYJjDBU8YL"
      },
      "outputs": [],
      "source": [
        "%%capture\n",
        "!pip install gymnasium==0.27.0\n",
        "!pip install tqdm\n",
        "!pip install seaborn\n",
        "!pip install colab-dev-tools\n",
        "!pip install numpy\n",
        "!pip install matplotlib\n",
        "!pip install gym[box2d]\n",
        "%matplotlib inline"
      ]
    },
    {
      "cell_type": "markdown",
      "metadata": {
        "id": "gsnQyL7j8yqd"
      },
      "source": [
        "#Importy\n",
        "\n",
        "Oto blok kodu w języku Python, który importuje kilka bibliotek: matplotlib, pandas, numpy, gym, torch, torch.nn, torch.nn.functional i torch.optim.\n",
        "\n",
        "matplotlib to biblioteka do tworzenia wykresów w Pythonie, pandas to biblioteka do analizy danych, numpy to biblioteka do pracy z tablicami, gym to zestaw narzędzi do tworzenia i porównywania algorytmów uczenia ze wzmocnieniem, a torch to biblioteka do uczenia maszynowego, która zapewnia funkcjonalność do budowania sieci neuronowych.\n",
        "\n",
        "Moduły torch.nn i torch.nn.functional zapewniają narzędzia do budowania sieci neuronowych, a moduł torch.optim zapewnia algorytmy optymalizacji do trenowania sieci neuronowych.\n",
        "\n",
        "Ogólnie rzecz biorąc, ten kod służy do importowania bibliotek, które będą używane do budowy i trenowania sieci neuronowych oraz tworzenia wykresów."
      ]
    },
    {
      "cell_type": "code",
      "execution_count": null,
      "metadata": {
        "id": "csEBC6EK5DxT"
      },
      "outputs": [],
      "source": [
        "from matplotlib import pyplot as plt\n",
        "import pandas as pd\n",
        "import numpy as np\n",
        "import gym\n",
        "\n",
        "import torch\n",
        "import torch.nn as nn\n",
        "import torch.nn.functional as F\n",
        "import torch.optim as optim"
      ]
    },
    {
      "cell_type": "markdown",
      "metadata": {
        "id": "BQ2rIBD681pX"
      },
      "source": [
        "#Parametry\n",
        "Ten blok kodu definiuje dwie zmienne.\n",
        "\n",
        "Pierwsza zmienna DEVICE jest obiektem torch.device, który przechowuje informacje o urządzeniu, na którym będzie wykonywany kod. W tym przypadku, jeśli urządzenie GPU (karta graficzna) jest dostępne, DEVICE ustawia się na \"cuda:0\", w przeciwnym razie na \"cpu\".\n",
        "\n",
        "Druga zmienna PATH to ścieżka do pliku, który zawiera zapisaną wstępnie wytrenowaną sieć neuronową dla zadania środowiska BipedalWalker-v3. Plik ten będzie używany w dalszej części kodu do załadowania sieci neuronowej.\n",
        "\n",
        "Trzecia zmienna PATH_LOG to ścieżka do pliku, w którym będą zapisywane dzienniki lub logi z działania programu. W tym przypadku plik ten będzie nazwany \"log.txt\"."
      ]
    },
    {
      "cell_type": "code",
      "execution_count": null,
      "metadata": {
        "id": "sds4lYKH5Ig7",
        "colab": {
          "base_uri": "https://localhost:8080/"
        },
        "outputId": "ca305b5b-e85c-42aa-a606-51c8a8fbb77e"
      },
      "outputs": [
        {
          "output_type": "stream",
          "name": "stderr",
          "text": [
            "/usr/local/lib/python3.10/dist-packages/ipykernel/ipkernel.py:283: DeprecationWarning: `should_run_async` will not call `transform_cell` automatically in the future. Please pass the result to `transformed_cell` argument and any exception that happen during thetransform in `preprocessing_exc_tuple` in IPython 7.17 and above.\n",
            "  and should_run_async(code)\n"
          ]
        }
      ],
      "source": [
        "# Select platform for calculations\n",
        "DEVICE = torch.device(\"cuda:0\" if torch.cuda.is_available() else \"cpu\") \n",
        "\n",
        "# Select Path for model and logs\n",
        "PATH = \"/content/drive/MyDrive/ISI/Inteligencja oblizeniowa w analizie danych/preTrained/BipedalWalker-v3\"\n",
        "PATH_LOG =  \"log.txt\""
      ]
    },
    {
      "cell_type": "markdown",
      "metadata": {
        "id": "qIXY6Raa84AK"
      },
      "source": [
        "#Implementacja agenta\n",
        "\n",
        "Ten blok kodu definiuje klasę Actor, która dziedziczy po klasie nn.Module z biblioteki torch.nn.\n",
        "\n",
        "W metodzie init tworzona jest sieć neuronowa z trzema warstwami liniowymi. Pierwsza warstwa liniowa (self.l1) przyjmuje rozmiar wejściowy równy state_dim i generuje wyjście o rozmiarze 400. Druga warstwa liniowa (self.l2) przyjmuje wejście o rozmiarze 400 i generuje wyjście o rozmiarze 300. Trzecia warstwa liniowa (self.l3) przyjmuje wejście o rozmiarze 300 i generuje wyjście o rozmiarze action_dim.\n",
        "\n",
        "W metodzie forward definiowany jest sposób przetwarzania wejścia przez sieć. Wejście (state) jest przekazywane przez kolejno warstwy liniowe, a wynik otrzymany na wyjściu z ostatniej warstwy jest przeskalowany przez max_action (maksymalną wartość akcji). Wynik ten jest następnie przetwarzany przez funkcję tanh z biblioteki torch, co zapewnia, że wartość akcji będzie zawsze w przedziale [-1, 1]. Ostatecznie wynik zwracany jest jako wartość akcji (a).\n",
        "\n",
        "W ten sposób klasa Actor definiuje architekturę sieci neuronowej, która będzie używana jako aktor w algorytmie uczenia ze wzmocnieniem."
      ]
    },
    {
      "cell_type": "code",
      "execution_count": null,
      "metadata": {
        "id": "g-XSq5WKgHU0"
      },
      "outputs": [],
      "source": [
        "class Actor(nn.Module):\n",
        "    def __init__(self, state_dim, action_dim, max_action):\n",
        "        super(Actor, self).__init__()\n",
        "        \n",
        "        self.l1 = nn.Linear(state_dim, 400)\n",
        "        self.l2 = nn.Linear(400, 300)\n",
        "        self.l3 = nn.Linear(300, action_dim)\n",
        "        \n",
        "        self.max_action = max_action\n",
        "        \n",
        "    def forward(self, state):\n",
        "        a = F.relu(self.l1(state))\n",
        "        a = F.relu(self.l2(a))\n",
        "        a = torch.tanh(self.l3(a)) * self.max_action\n",
        "        return a"
      ]
    },
    {
      "cell_type": "markdown",
      "metadata": {
        "id": "NpqPsVoY86WQ"
      },
      "source": [
        "#Implementacja Krytyka\n",
        "Ten blok kodu definiuje klasę Critic, która dziedziczy po klasie nn.Module z biblioteki torch.nn.\n",
        "\n",
        "W metodzie init tworzona jest sieć neuronowa z trzema warstwami liniowymi. Pierwsza warstwa liniowa (self.l1) przyjmuje wejście o rozmiarze równym sumie state_dim (rozmiaru stanu) i action_dim (rozmiaru akcji) i generuje wyjście o rozmiarze 400. Druga warstwa liniowa (self.l2) przyjmuje wejście o rozmiarze 400 i generuje wyjście o rozmiarze 300. Trzecia warstwa liniowa (self.l3) przyjmuje wejście o rozmiarze 300 i generuje wyjście o rozmiarze 1, które jest oceną jakości danej pary stan-akcja.\n",
        "\n",
        "W metodzie forward definiowany jest sposób przetwarzania wejścia przez sieć. Najpierw stan (state) i akcja (action) są łączone w jeden wektor (state_action) za pomocą funkcji torch.cat. Następnie wejście to jest przekazywane przez kolejno warstwy liniowe, a wynik otrzymany na wyjściu z ostatniej warstwy jest zwracany jako ocena jakości danej pary stan-akcja (q).\n",
        "\n",
        "W ten sposób klasa Critic definiuje architekturę sieci neuronowej, która będzie używana jako krytyk w algorytmie uczenia ze wzmocnieniem."
      ]
    },
    {
      "cell_type": "code",
      "execution_count": null,
      "metadata": {
        "id": "_b7jcPJ95RxZ"
      },
      "outputs": [],
      "source": [
        "class Critic(nn.Module):\n",
        "    def __init__(self, state_dim, action_dim):\n",
        "        super(Critic, self).__init__()\n",
        "        \n",
        "        self.l1 = nn.Linear(state_dim + action_dim, 400)\n",
        "        self.l2 = nn.Linear(400, 300)\n",
        "        self.l3 = nn.Linear(300, 1)\n",
        "        \n",
        "    def forward(self, state, action):\n",
        "        state_action = torch.cat([state, action], 1)\n",
        "        \n",
        "        q = F.relu(self.l1(state_action))\n",
        "        q = F.relu(self.l2(q))\n",
        "        q = self.l3(q)\n",
        "        return q"
      ]
    },
    {
      "cell_type": "markdown",
      "metadata": {
        "id": "xOZxyIDu8_p9"
      },
      "source": [
        "#Implementacja buffora przechowującego akcje agenta\n",
        "\n",
        "Ten blok kodu definiuje klasę ReplayBuffer, która służy do przechowywania przejść agenta (stan, akcja, nagroda, następny stan, flaga zakończenia).\n",
        "\n",
        "W metodzie init inicjowane są atrybuty klasy buffer (lista, która będzie przechowywać przejścia), max_size (maksymalny rozmiar bufora) oraz size (aktualny rozmiar bufora, początkowo ustawiony na 0).\n",
        "\n",
        "Metoda add służy do dodawania nowego przejścia do bufora. Przyjmuje ona jeden argument transition, który jest krotką zawierającą kolejno stan, akcję, nagrodę, następny stan oraz flagę zakończenia. Metoda ta dodaje przejście do listy buffer oraz zwiększa wartość atrybutu size o 1.\n",
        "\n",
        "Metoda sample służy do pobierania losowego podzbioru przejść z bufora o zadanej wielkości batch_size. Jeśli rozmiar bufora przekracza maksymalny rozmiar (max_size), to usuwane jest najstarsze 20% przejść. Następnie losowo wybierane są indeksy przejść, a odpowiadające im stany, akcje, nagrody, następne stany oraz flagi zakończenia są pobierane z bufora i zapisywane do pięciu osobnych list (state, action, reward, next_state, done). Na koniec metoda zwraca pięć list zawierających wybrane przejścia.\n"
      ]
    },
    {
      "cell_type": "code",
      "execution_count": null,
      "metadata": {
        "id": "Krxkq2g05UWj"
      },
      "outputs": [],
      "source": [
        "class ReplayBuffer:\n",
        "    def __init__(self, max_size=5e5):\n",
        "        self.buffer = []\n",
        "        self.max_size = int(max_size)\n",
        "        self.size = 0\n",
        "    \n",
        "    def add(self, transition):\n",
        "        self.size +=1\n",
        "        self.buffer.append(transition)\n",
        "    \n",
        "    def sample(self, batch_size):\n",
        "        if self.size > self.max_size:\n",
        "            del self.buffer[0:int(self.size/5)]\n",
        "            self.size = len(self.buffer)\n",
        "        \n",
        "        indexes = np.random.randint(0, len(self.buffer), size=batch_size)\n",
        "        state, action, reward, next_state, done = [], [], [], [], []\n",
        "        \n",
        "        for i in indexes:\n",
        "            s, a, r, s_, d = self.buffer[i]\n",
        "            state.append(np.array(s, copy=False))\n",
        "            action.append(np.array(a, copy=False))\n",
        "            reward.append(np.array(r, copy=False))\n",
        "            next_state.append(np.array(s_, copy=False))\n",
        "            done.append(np.array(d, copy=False))\n",
        "        \n",
        "        return np.array(state), np.array(action), np.array(reward), np.array(next_state), np.array(done)"
      ]
    },
    {
      "cell_type": "markdown",
      "metadata": {
        "id": "AlgGRZaC9mTc"
      },
      "source": [
        "#Implementacja algorytmu TD3\n",
        "Ten kod to implementacja algorytmu Twin Delayed Deep Deterministic Policy Gradient (TD3) w Pythonie. Jest to jeden z najnowocześniejszych algorytmów uczenia ze wzmocnieniem, który wykorzystuje głębokie sieci neuronowe do uczenia się optymalnej polityki sterowania dla agenta w środowisku.\n",
        "\n",
        "W klasie TD3 zdefiniowano trzy główne komponenty: aktora, krytyka 1 i krytyka 2. Aktor jest siecią neuronową, która otrzymuje stan środowiska i zwraca akcję. Krytyk to również sieć neuronowa, która otrzymuje stan środowiska i akcję, a następnie ocenia ich wartość Q. W TD3 używamy dwóch krytyków, aby zminimalizować błąd oszacowania wartości Q.\n",
        "\n",
        "W funkcji select_action() korzystamy z naszego aktora, aby wygenerować akcję dla danego stanu. Funkcja update() jest najważniejszą częścią algorytmu TD3 i służy do uczenia sieci neuronowych. W każdym kroku aktualizujemy wagi naszych sieci neuronowych, korzystając z próbek z pamięci powtórkowej.\n",
        "\n",
        "Algorytm TD3 wykorzystuje także technikę sztucznego szumu, aby zachęcić agenta do eksploracji środowiska. Używamy tu dwa rodzaje szumu: policy_noise i noise_clip. Policy_noise jest dodawane do wyjścia aktora, podczas gdy noise_clip służy do ograniczenia wartości szumu.\n",
        "\n",
        "W funkcji save() i load() zapisujemy i wczytujemy wagi naszych sieci neuronowych do plików w celu łatwiejszego przenoszenia pomiędzy różnymi środowiskami."
      ]
    },
    {
      "cell_type": "code",
      "execution_count": null,
      "metadata": {
        "id": "wEJyzsJsgLT2"
      },
      "outputs": [],
      "source": [
        "class TD3:\n",
        "    def __init__(self, lr, state_dim, action_dim, max_action):\n",
        "        \n",
        "        self.actor = Actor(state_dim, action_dim, max_action).to(DEVICE)\n",
        "        self.actor_target = Actor(state_dim, action_dim, max_action).to(DEVICE)\n",
        "        self.actor_target.load_state_dict(self.actor.state_dict())\n",
        "        self.actor_optimizer = optim.Adam(self.actor.parameters(), lr=lr)\n",
        "        \n",
        "        self.critic_1 = Critic(state_dim, action_dim).to(DEVICE)\n",
        "        self.critic_1_target = Critic(state_dim, action_dim).to(DEVICE)\n",
        "        self.critic_1_target.load_state_dict(self.critic_1.state_dict())\n",
        "        self.critic_1_optimizer = optim.Adam(self.critic_1.parameters(), lr=lr)\n",
        "        \n",
        "        self.critic_2 = Critic(state_dim, action_dim).to(DEVICE)\n",
        "        self.critic_2_target = Critic(state_dim, action_dim).to(DEVICE)\n",
        "        self.critic_2_target.load_state_dict(self.critic_2.state_dict())\n",
        "        self.critic_2_optimizer = optim.Adam(self.critic_2.parameters(), lr=lr)\n",
        "        \n",
        "        self.max_action = max_action\n",
        "    \n",
        "    def select_action(self, state):\n",
        "        state = torch.FloatTensor(state.reshape(1, -1)).to(DEVICE)\n",
        "        return self.actor(state).cpu().data.numpy().flatten()\n",
        "    \n",
        "    def update(self, replay_buffer, n_iter, batch_size, gamma, polyak, policy_noise, noise_clip, policy_delay):\n",
        "        \n",
        "        for i in range(n_iter):\n",
        "            state, action_, reward, next_state, done = replay_buffer.sample(batch_size)\n",
        "            state = torch.FloatTensor(state).to(DEVICE)\n",
        "            action = torch.FloatTensor(action_).to(DEVICE)\n",
        "            reward = torch.FloatTensor(reward).reshape((batch_size,1)).to(DEVICE)\n",
        "            next_state = torch.FloatTensor(next_state).to(DEVICE)\n",
        "            done = torch.FloatTensor(done).reshape((batch_size,1)).to(DEVICE)\n",
        "            \n",
        "            noise = torch.FloatTensor(action_).data.normal_(0, policy_noise).to(DEVICE)\n",
        "            noise = noise.clamp(-noise_clip, noise_clip)\n",
        "            next_action = (self.actor_target(next_state) + noise)\n",
        "            next_action = next_action.clamp(-self.max_action, self.max_action)\n",
        "            \n",
        "            target_Q1 = self.critic_1_target(next_state, next_action)\n",
        "            target_Q2 = self.critic_2_target(next_state, next_action)\n",
        "            target_Q = torch.min(target_Q1, target_Q2)\n",
        "            target_Q = reward + ((1-done) * gamma * target_Q).detach()\n",
        "            \n",
        "            current_Q1 = self.critic_1(state, action)\n",
        "            loss_Q1 = F.mse_loss(current_Q1, target_Q)\n",
        "            self.critic_1_optimizer.zero_grad()\n",
        "            loss_Q1.backward()\n",
        "            self.critic_1_optimizer.step()\n",
        "            \n",
        "            current_Q2 = self.critic_2(state, action)\n",
        "            loss_Q2 = F.mse_loss(current_Q2, target_Q)\n",
        "            self.critic_2_optimizer.zero_grad()\n",
        "            loss_Q2.backward()\n",
        "            self.critic_2_optimizer.step()\n",
        "            \n",
        "            if i % policy_delay == 0:\n",
        "                actor_loss = -self.critic_1(state, self.actor(state)).mean()\n",
        "                \n",
        "                self.actor_optimizer.zero_grad()\n",
        "                actor_loss.backward()\n",
        "                self.actor_optimizer.step()\n",
        "                \n",
        "                for param, target_param in zip(self.actor.parameters(), self.actor_target.parameters()):\n",
        "                    target_param.data.copy_( (polyak * target_param.data) + ((1-polyak) * param.data))\n",
        "                \n",
        "                for param, target_param in zip(self.critic_1.parameters(), self.critic_1_target.parameters()):\n",
        "                    target_param.data.copy_( (polyak * target_param.data) + ((1-polyak) * param.data))\n",
        "                \n",
        "                for param, target_param in zip(self.critic_2.parameters(), self.critic_2_target.parameters()):\n",
        "                    target_param.data.copy_( (polyak * target_param.data) + ((1-polyak) * param.data))\n",
        "                    \n",
        "                \n",
        "    def save(self, directory, name):\n",
        "        torch.save(self.actor.state_dict(), '%s/%s_actor.pth' % (directory, name))\n",
        "        torch.save(self.actor_target.state_dict(), '%s/%s_actor_target.pth' % (directory, name))\n",
        "        \n",
        "        torch.save(self.critic_1.state_dict(), '%s/%s_crtic_1.pth' % (directory, name))\n",
        "        torch.save(self.critic_1_target.state_dict(), '%s/%s_critic_1_target.pth' % (directory, name))\n",
        "        \n",
        "        torch.save(self.critic_2.state_dict(), '%s/%s_crtic_2.pth' % (directory, name))\n",
        "        torch.save(self.critic_2_target.state_dict(), '%s/%s_critic_2_target.pth' % (directory, name))\n",
        "        \n",
        "    def load(self, directory, name):\n",
        "        self.actor.load_state_dict(torch.load('%s/%s_actor.pth' % (directory, name), map_location=lambda storage, loc: storage))\n",
        "        self.actor_target.load_state_dict(torch.load('%s/%s_actor_target.pth' % (directory, name), map_location=lambda storage, loc: storage))\n",
        "        \n",
        "        self.critic_1.load_state_dict(torch.load('%s/%s_crtic_1.pth' % (directory, name), map_location=lambda storage, loc: storage))\n",
        "        self.critic_1_target.load_state_dict(torch.load('%s/%s_critic_1_target.pth' % (directory, name), map_location=lambda storage, loc: storage))\n",
        "        \n",
        "        self.critic_2.load_state_dict(torch.load('%s/%s_crtic_2.pth' % (directory, name), map_location=lambda storage, loc: storage))\n",
        "        self.critic_2_target.load_state_dict(torch.load('%s/%s_critic_2_target.pth' % (directory, name), map_location=lambda storage, loc: storage))\n",
        "        \n",
        "    def load_actor(self, directory, name):\n",
        "        self.actor.load_state_dict(torch.load('%s/%s_actor.pth' % (directory, name), map_location=lambda storage, loc: storage))\n",
        "        self.actor_target.load_state_dict(torch.load('%s/%s_actor_target.pth' % (directory, name), map_location=lambda storage, loc: storage))"
      ]
    },
    {
      "cell_type": "markdown",
      "metadata": {
        "id": "QePgMgGoED6Z"
      },
      "source": [
        "# Trenowanie\n",
        "Funkcja train to funkcja, która służy do trenowania algorytmu TD3 (Twin Delayed Deep Deterministic Policy Gradient) w środowisku BipedalWalker-v3.\n",
        "\n",
        "Kod działa w następujący sposób:\n",
        "\n",
        "Inicjalizacja hiperparametrów algorytmu (gamma, batch_size, lr, exploration_noise, polyak, policy_noise, noise_clip, policy_delay, max_episodes, max_timesteps).\n",
        "\n",
        "Tworzenie środowiska OpenAI Gym dla gry BipedalWalker-v3.\n",
        "Inicjalizacja sieci neuronowych (Q1, Q2 i policy) oraz bufora replay_buffer.\n",
        "Pętla treningowa dla każdego epizodu:\n",
        "\n",
        "a. Resetowanie środowiska i pobranie stanu początkowego.\n",
        "b. Pętla po timesteps:\n",
        "\n",
        "\n",
        "\n",
        "1.   Wybór akcji przez sieć policy z dodatkiem szumu eksploracyjnego.\n",
        "2.   Otrzymanie nagrody i nowego stanu po wykonaniu akcji w środowisku.\n",
        "3. Dodanie do bufora replay_buffer przejścia (state, action, reward, next_state, done).\n",
        "4. Aktualizacja wartości Q i polityki za pomocą funkcji policy.update().\n",
        "\n",
        "\n",
        "c. Zapisanie nagrody epizodu w krzywej uczenia curve i w pliku log_f.\n",
        "W przypadku osiągnięcia nagrody średniej powyżej 300, zapisanie modelu z rozwiązaniem i przerwanie treningu.\n",
        "W przypadku wykonania więcej niż 5000 epizodów, zapisanie modelu i kontynuowanie treningu.\n",
        "Co log_interval epizodów, wyświetlenie średniej nagrody dla danego epizodu."
      ]
    },
    {
      "cell_type": "code",
      "execution_count": null,
      "metadata": {
        "id": "EzzLeX6teCrm"
      },
      "outputs": [],
      "source": [
        "curve = list()\n",
        "def train(set_gamma):\n",
        "\n",
        "    ######### Hyperparameters #########\n",
        "    log_interval = 25           # print avg reward after interval\n",
        "    random_seed = 0\n",
        "    gamma = set_gamma               # discount for future rewards\n",
        "    batch_size = 100            # num of transitions sampled from replay buffer\n",
        "    lr = 0.001\n",
        "    exploration_noise = 0.1 \n",
        "    polyak = 0.995              # target policy update parameter (1-tau)\n",
        "    policy_noise = 0.2          # target policy smoothing noise\n",
        "    noise_clip = 0.5\n",
        "    policy_delay = 2            # delayed policy updates parameter\n",
        "    max_episodes = 1000        # max num of episodes\n",
        "    max_timesteps = 2000        # max timesteps in one episode\n",
        "    ###################################\n",
        "\n",
        "    env_name = \"BipedalWalker-v3\"\n",
        "    filename = \"TD3_{}_{}\".format(env_name, random_seed)\n",
        "    directory = PATH\n",
        "    \n",
        "    env = gym.make(env_name)\n",
        "    state_dim = env.observation_space.shape[0]\n",
        "    action_dim = env.action_space.shape[0]\n",
        "    max_action = float(env.action_space.high[0])\n",
        "    \n",
        "    policy = TD3(lr, state_dim, action_dim, max_action)\n",
        "    replay_buffer = ReplayBuffer()\n",
        "    \n",
        "    if random_seed:\n",
        "        print(\"Random Seed: {}\".format(random_seed))\n",
        "        env.seed(random_seed)\n",
        "        torch.manual_seed(random_seed)\n",
        "        np.random.seed(random_seed)\n",
        "    \n",
        "    avg_reward = 0\n",
        "    ep_reward = 0\n",
        "    log_f = open(PATH_LOG,\"w+\")\n",
        "    \n",
        "    for episode in range(1, max_episodes+1):\n",
        "        state = env.reset()\n",
        "        for t in range(max_timesteps):\n",
        "            action = policy.select_action(state)\n",
        "            action = action + np.random.normal(0, exploration_noise, size=env.action_space.shape[0])\n",
        "            action = action.clip(env.action_space.low, env.action_space.high)\n",
        "            \n",
        "            next_state, reward, done, _ = env.step(action)\n",
        "            replay_buffer.add((state, action, reward, next_state, float(done)))\n",
        "            state = next_state\n",
        "            \n",
        "            avg_reward += reward\n",
        "            ep_reward += reward\n",
        "            \n",
        "            if done or t==(max_timesteps-1):\n",
        "                policy.update(replay_buffer, t, batch_size, gamma, polyak, policy_noise, noise_clip, policy_delay)\n",
        "                break\n",
        "        \n",
        "        curve.append(ep_reward)\n",
        "        \n",
        "        log_f.write('{},{}\\n'.format(episode, ep_reward))\n",
        "        log_f.flush()\n",
        "        ep_reward = 0\n",
        "\n",
        "        if (avg_reward/log_interval) >= 300:\n",
        "            print(\"########## Solved! ###########\")\n",
        "            name = filename + '_solved'\n",
        "            policy.save(directory, name)\n",
        "            log_f.close()\n",
        "            break\n",
        "        if episode > 5000:\n",
        "            policy.save(directory, filename)\n",
        "        \n",
        "        if episode % log_interval == 0:\n",
        "            avg_reward = int(avg_reward / log_interval)\n",
        "            print(\"Episode: {}\\tAverage Reward: {}\".format(episode, avg_reward))\n",
        "            avg_reward = 0\n"
      ]
    },
    {
      "cell_type": "code",
      "execution_count": null,
      "metadata": {
        "id": "HCAnRCBeUAG-"
      },
      "outputs": [],
      "source": [
        "#train(0.81)"
      ]
    },
    {
      "cell_type": "code",
      "execution_count": null,
      "metadata": {
        "colab": {
          "base_uri": "https://localhost:8080/",
          "height": 606
        },
        "id": "zaH-Yg40T-Nk",
        "outputId": "dec84604-216d-4ed5-ba9e-1a6273d5a9b2"
      },
      "outputs": [
        {
          "metadata": {
            "tags": null
          },
          "name": "stdout",
          "output_type": "stream",
          "text": [
            "Episode: 25\tAverage Reward: -115\n",
            "Episode: 50\tAverage Reward: -114\n",
            "Episode: 75\tAverage Reward: -111\n",
            "Episode: 100\tAverage Reward: -114\n",
            "Episode: 125\tAverage Reward: -113\n",
            "Episode: 150\tAverage Reward: -116\n",
            "Episode: 175\tAverage Reward: -78\n",
            "Episode: 200\tAverage Reward: -19\n",
            "Episode: 225\tAverage Reward: 23\n",
            "Episode: 250\tAverage Reward: 152\n",
            "Episode: 275\tAverage Reward: 158\n",
            "Episode: 300\tAverage Reward: 211\n",
            "Episode: 325\tAverage Reward: 202\n",
            "Episode: 350\tAverage Reward: 221\n",
            "Episode: 375\tAverage Reward: 227\n",
            "Episode: 400\tAverage Reward: 229\n"
          ]
        },
        {
          "output_type": "error",
          "ename": "KeyboardInterrupt",
          "evalue": "ignored",
          "traceback": [
            "\u001b[0;31m---------------------------------------------------------------------------\u001b[0m",
            "\u001b[0;31mKeyboardInterrupt\u001b[0m                         Traceback (most recent call last)",
            "\u001b[0;32m<ipython-input-12-e1327b9268c6>\u001b[0m in \u001b[0;36m<cell line: 1>\u001b[0;34m()\u001b[0m\n\u001b[0;32m----> 1\u001b[0;31m \u001b[0mtrain\u001b[0m\u001b[0;34m(\u001b[0m\u001b[0;36m0.999\u001b[0m\u001b[0;34m)\u001b[0m\u001b[0;34m\u001b[0m\u001b[0;34m\u001b[0m\u001b[0m\n\u001b[0m",
            "\u001b[0;32m<ipython-input-11-354c79ad3fe7>\u001b[0m in \u001b[0;36mtrain\u001b[0;34m(set_gamma)\u001b[0m\n\u001b[1;32m     54\u001b[0m \u001b[0;34m\u001b[0m\u001b[0m\n\u001b[1;32m     55\u001b[0m             \u001b[0;32mif\u001b[0m \u001b[0mdone\u001b[0m \u001b[0;32mor\u001b[0m \u001b[0mt\u001b[0m\u001b[0;34m==\u001b[0m\u001b[0;34m(\u001b[0m\u001b[0mmax_timesteps\u001b[0m\u001b[0;34m-\u001b[0m\u001b[0;36m1\u001b[0m\u001b[0;34m)\u001b[0m\u001b[0;34m:\u001b[0m\u001b[0;34m\u001b[0m\u001b[0;34m\u001b[0m\u001b[0m\n\u001b[0;32m---> 56\u001b[0;31m                 \u001b[0mpolicy\u001b[0m\u001b[0;34m.\u001b[0m\u001b[0mupdate\u001b[0m\u001b[0;34m(\u001b[0m\u001b[0mreplay_buffer\u001b[0m\u001b[0;34m,\u001b[0m \u001b[0mt\u001b[0m\u001b[0;34m,\u001b[0m \u001b[0mbatch_size\u001b[0m\u001b[0;34m,\u001b[0m \u001b[0mgamma\u001b[0m\u001b[0;34m,\u001b[0m \u001b[0mpolyak\u001b[0m\u001b[0;34m,\u001b[0m \u001b[0mpolicy_noise\u001b[0m\u001b[0;34m,\u001b[0m \u001b[0mnoise_clip\u001b[0m\u001b[0;34m,\u001b[0m \u001b[0mpolicy_delay\u001b[0m\u001b[0;34m)\u001b[0m\u001b[0;34m\u001b[0m\u001b[0;34m\u001b[0m\u001b[0m\n\u001b[0m\u001b[1;32m     57\u001b[0m                 \u001b[0;32mbreak\u001b[0m\u001b[0;34m\u001b[0m\u001b[0;34m\u001b[0m\u001b[0m\n\u001b[1;32m     58\u001b[0m \u001b[0;34m\u001b[0m\u001b[0m\n",
            "\u001b[0;32m<ipython-input-7-fb8cd587cc5a>\u001b[0m in \u001b[0;36mupdate\u001b[0;34m(self, replay_buffer, n_iter, batch_size, gamma, polyak, policy_noise, noise_clip, policy_delay)\u001b[0m\n\u001b[1;32m     47\u001b[0m             \u001b[0mself\u001b[0m\u001b[0;34m.\u001b[0m\u001b[0mcritic_1_optimizer\u001b[0m\u001b[0;34m.\u001b[0m\u001b[0mzero_grad\u001b[0m\u001b[0;34m(\u001b[0m\u001b[0;34m)\u001b[0m\u001b[0;34m\u001b[0m\u001b[0;34m\u001b[0m\u001b[0m\n\u001b[1;32m     48\u001b[0m             \u001b[0mloss_Q1\u001b[0m\u001b[0;34m.\u001b[0m\u001b[0mbackward\u001b[0m\u001b[0;34m(\u001b[0m\u001b[0;34m)\u001b[0m\u001b[0;34m\u001b[0m\u001b[0;34m\u001b[0m\u001b[0m\n\u001b[0;32m---> 49\u001b[0;31m             \u001b[0mself\u001b[0m\u001b[0;34m.\u001b[0m\u001b[0mcritic_1_optimizer\u001b[0m\u001b[0;34m.\u001b[0m\u001b[0mstep\u001b[0m\u001b[0;34m(\u001b[0m\u001b[0;34m)\u001b[0m\u001b[0;34m\u001b[0m\u001b[0;34m\u001b[0m\u001b[0m\n\u001b[0m\u001b[1;32m     50\u001b[0m \u001b[0;34m\u001b[0m\u001b[0m\n\u001b[1;32m     51\u001b[0m             \u001b[0mcurrent_Q2\u001b[0m \u001b[0;34m=\u001b[0m \u001b[0mself\u001b[0m\u001b[0;34m.\u001b[0m\u001b[0mcritic_2\u001b[0m\u001b[0;34m(\u001b[0m\u001b[0mstate\u001b[0m\u001b[0;34m,\u001b[0m \u001b[0maction\u001b[0m\u001b[0;34m)\u001b[0m\u001b[0;34m\u001b[0m\u001b[0;34m\u001b[0m\u001b[0m\n",
            "\u001b[0;32m/usr/local/lib/python3.10/dist-packages/torch/optim/optimizer.py\u001b[0m in \u001b[0;36mwrapper\u001b[0;34m(*args, **kwargs)\u001b[0m\n\u001b[1;32m    278\u001b[0m                                                f\"but got {result}.\")\n\u001b[1;32m    279\u001b[0m \u001b[0;34m\u001b[0m\u001b[0m\n\u001b[0;32m--> 280\u001b[0;31m                 \u001b[0mout\u001b[0m \u001b[0;34m=\u001b[0m \u001b[0mfunc\u001b[0m\u001b[0;34m(\u001b[0m\u001b[0;34m*\u001b[0m\u001b[0margs\u001b[0m\u001b[0;34m,\u001b[0m \u001b[0;34m**\u001b[0m\u001b[0mkwargs\u001b[0m\u001b[0;34m)\u001b[0m\u001b[0;34m\u001b[0m\u001b[0;34m\u001b[0m\u001b[0m\n\u001b[0m\u001b[1;32m    281\u001b[0m                 \u001b[0mself\u001b[0m\u001b[0;34m.\u001b[0m\u001b[0m_optimizer_step_code\u001b[0m\u001b[0;34m(\u001b[0m\u001b[0;34m)\u001b[0m\u001b[0;34m\u001b[0m\u001b[0;34m\u001b[0m\u001b[0m\n\u001b[1;32m    282\u001b[0m \u001b[0;34m\u001b[0m\u001b[0m\n",
            "\u001b[0;32m/usr/local/lib/python3.10/dist-packages/torch/optim/optimizer.py\u001b[0m in \u001b[0;36m_use_grad\u001b[0;34m(self, *args, **kwargs)\u001b[0m\n\u001b[1;32m     31\u001b[0m         \u001b[0;32mtry\u001b[0m\u001b[0;34m:\u001b[0m\u001b[0;34m\u001b[0m\u001b[0;34m\u001b[0m\u001b[0m\n\u001b[1;32m     32\u001b[0m             \u001b[0mtorch\u001b[0m\u001b[0;34m.\u001b[0m\u001b[0mset_grad_enabled\u001b[0m\u001b[0;34m(\u001b[0m\u001b[0mself\u001b[0m\u001b[0;34m.\u001b[0m\u001b[0mdefaults\u001b[0m\u001b[0;34m[\u001b[0m\u001b[0;34m'differentiable'\u001b[0m\u001b[0;34m]\u001b[0m\u001b[0;34m)\u001b[0m\u001b[0;34m\u001b[0m\u001b[0;34m\u001b[0m\u001b[0m\n\u001b[0;32m---> 33\u001b[0;31m             \u001b[0mret\u001b[0m \u001b[0;34m=\u001b[0m \u001b[0mfunc\u001b[0m\u001b[0;34m(\u001b[0m\u001b[0mself\u001b[0m\u001b[0;34m,\u001b[0m \u001b[0;34m*\u001b[0m\u001b[0margs\u001b[0m\u001b[0;34m,\u001b[0m \u001b[0;34m**\u001b[0m\u001b[0mkwargs\u001b[0m\u001b[0;34m)\u001b[0m\u001b[0;34m\u001b[0m\u001b[0;34m\u001b[0m\u001b[0m\n\u001b[0m\u001b[1;32m     34\u001b[0m         \u001b[0;32mfinally\u001b[0m\u001b[0;34m:\u001b[0m\u001b[0;34m\u001b[0m\u001b[0;34m\u001b[0m\u001b[0m\n\u001b[1;32m     35\u001b[0m             \u001b[0mtorch\u001b[0m\u001b[0;34m.\u001b[0m\u001b[0mset_grad_enabled\u001b[0m\u001b[0;34m(\u001b[0m\u001b[0mprev_grad\u001b[0m\u001b[0;34m)\u001b[0m\u001b[0;34m\u001b[0m\u001b[0;34m\u001b[0m\u001b[0m\n",
            "\u001b[0;32m/usr/local/lib/python3.10/dist-packages/torch/optim/adam.py\u001b[0m in \u001b[0;36mstep\u001b[0;34m(self, closure)\u001b[0m\n\u001b[1;32m    139\u001b[0m                 state_steps)\n\u001b[1;32m    140\u001b[0m \u001b[0;34m\u001b[0m\u001b[0m\n\u001b[0;32m--> 141\u001b[0;31m             adam(\n\u001b[0m\u001b[1;32m    142\u001b[0m                 \u001b[0mparams_with_grad\u001b[0m\u001b[0;34m,\u001b[0m\u001b[0;34m\u001b[0m\u001b[0;34m\u001b[0m\u001b[0m\n\u001b[1;32m    143\u001b[0m                 \u001b[0mgrads\u001b[0m\u001b[0;34m,\u001b[0m\u001b[0;34m\u001b[0m\u001b[0;34m\u001b[0m\u001b[0m\n",
            "\u001b[0;32m/usr/local/lib/python3.10/dist-packages/torch/optim/adam.py\u001b[0m in \u001b[0;36madam\u001b[0;34m(params, grads, exp_avgs, exp_avg_sqs, max_exp_avg_sqs, state_steps, foreach, capturable, differentiable, fused, grad_scale, found_inf, amsgrad, beta1, beta2, lr, weight_decay, eps, maximize)\u001b[0m\n\u001b[1;32m    279\u001b[0m         \u001b[0mfunc\u001b[0m \u001b[0;34m=\u001b[0m \u001b[0m_single_tensor_adam\u001b[0m\u001b[0;34m\u001b[0m\u001b[0;34m\u001b[0m\u001b[0m\n\u001b[1;32m    280\u001b[0m \u001b[0;34m\u001b[0m\u001b[0m\n\u001b[0;32m--> 281\u001b[0;31m     func(params,\n\u001b[0m\u001b[1;32m    282\u001b[0m          \u001b[0mgrads\u001b[0m\u001b[0;34m,\u001b[0m\u001b[0;34m\u001b[0m\u001b[0;34m\u001b[0m\u001b[0m\n\u001b[1;32m    283\u001b[0m          \u001b[0mexp_avgs\u001b[0m\u001b[0;34m,\u001b[0m\u001b[0;34m\u001b[0m\u001b[0;34m\u001b[0m\u001b[0m\n",
            "\u001b[0;32m/usr/local/lib/python3.10/dist-packages/torch/optim/adam.py\u001b[0m in \u001b[0;36m_single_tensor_adam\u001b[0;34m(params, grads, exp_avgs, exp_avg_sqs, max_exp_avg_sqs, state_steps, grad_scale, found_inf, amsgrad, beta1, beta2, lr, weight_decay, eps, maximize, capturable, differentiable)\u001b[0m\n\u001b[1;32m    389\u001b[0m                 \u001b[0mdenom\u001b[0m \u001b[0;34m=\u001b[0m \u001b[0;34m(\u001b[0m\u001b[0mmax_exp_avg_sqs\u001b[0m\u001b[0;34m[\u001b[0m\u001b[0mi\u001b[0m\u001b[0;34m]\u001b[0m\u001b[0;34m.\u001b[0m\u001b[0msqrt\u001b[0m\u001b[0;34m(\u001b[0m\u001b[0;34m)\u001b[0m \u001b[0;34m/\u001b[0m \u001b[0mbias_correction2_sqrt\u001b[0m\u001b[0;34m)\u001b[0m\u001b[0;34m.\u001b[0m\u001b[0madd_\u001b[0m\u001b[0;34m(\u001b[0m\u001b[0meps\u001b[0m\u001b[0;34m)\u001b[0m\u001b[0;34m\u001b[0m\u001b[0;34m\u001b[0m\u001b[0m\n\u001b[1;32m    390\u001b[0m             \u001b[0;32melse\u001b[0m\u001b[0;34m:\u001b[0m\u001b[0;34m\u001b[0m\u001b[0;34m\u001b[0m\u001b[0m\n\u001b[0;32m--> 391\u001b[0;31m                 \u001b[0mdenom\u001b[0m \u001b[0;34m=\u001b[0m \u001b[0;34m(\u001b[0m\u001b[0mexp_avg_sq\u001b[0m\u001b[0;34m.\u001b[0m\u001b[0msqrt\u001b[0m\u001b[0;34m(\u001b[0m\u001b[0;34m)\u001b[0m \u001b[0;34m/\u001b[0m \u001b[0mbias_correction2_sqrt\u001b[0m\u001b[0;34m)\u001b[0m\u001b[0;34m.\u001b[0m\u001b[0madd_\u001b[0m\u001b[0;34m(\u001b[0m\u001b[0meps\u001b[0m\u001b[0;34m)\u001b[0m\u001b[0;34m\u001b[0m\u001b[0;34m\u001b[0m\u001b[0m\n\u001b[0m\u001b[1;32m    392\u001b[0m \u001b[0;34m\u001b[0m\u001b[0m\n\u001b[1;32m    393\u001b[0m             \u001b[0mparam\u001b[0m\u001b[0;34m.\u001b[0m\u001b[0maddcdiv_\u001b[0m\u001b[0;34m(\u001b[0m\u001b[0mexp_avg\u001b[0m\u001b[0;34m,\u001b[0m \u001b[0mdenom\u001b[0m\u001b[0;34m,\u001b[0m \u001b[0mvalue\u001b[0m\u001b[0;34m=\u001b[0m\u001b[0;34m-\u001b[0m\u001b[0mstep_size\u001b[0m\u001b[0;34m)\u001b[0m\u001b[0;34m\u001b[0m\u001b[0;34m\u001b[0m\u001b[0m\n",
            "\u001b[0;31mKeyboardInterrupt\u001b[0m: "
          ]
        }
      ],
      "source": [
        "train(0.999)"
      ]
    },
    {
      "cell_type": "code",
      "execution_count": null,
      "metadata": {
        "id": "EUzRqPPugkBD"
      },
      "outputs": [],
      "source": [
        "#train(0.9)"
      ]
    },
    {
      "cell_type": "markdown",
      "metadata": {
        "id": "qtygOQMwFNyg"
      },
      "source": [
        "# Testowanie\n",
        "Funkcja test() służy do przetestowania wytrenowanej sieci TD3 (tzw. Twin Delayed Deep Deterministic Policy Gradient) na środowisku BipedalWalker-v3 z biblioteki OpenAI Gym.\n",
        "\n",
        "Funkcja ta najpierw inicjuje środowisko oraz wczytuje wytrenowaną sieć z pliku zapisanego wcześniej przez funkcję train(). Następnie, przez określoną liczbę epizodów, testuje sieć poprzez przeprowadzenie symulacji w środowisku.\n",
        "\n",
        "W każdym epizodzie, agent podejmuje akcje na podstawie obserwacji stanu, otrzymuje nagrodę za daną akcję, a stan środowiska przechodzi do kolejnego kroku czasowym, aż do osiągnięcia maksymalnej liczby kroków lub końca epizodu. Funkcja test() zbiera wyniki każdego epizodu, a na końcu wyświetla nagrody dla każdego epizodu."
      ]
    },
    {
      "cell_type": "code",
      "execution_count": null,
      "metadata": {
        "id": "UweGsp9ON6ok"
      },
      "outputs": [],
      "source": [
        "def test():\n",
        "    env_name = \"BipedalWalker-v3\"\n",
        "    random_seed = 0\n",
        "    n_episodes = 300\n",
        "    lr = 0.002\n",
        "    max_timesteps = 2000\n",
        "    render = True\n",
        "    save_gif = False\n",
        "    \n",
        "    filename = \"TD3_{}_{}\".format(env_name, random_seed)\n",
        "    filename += '_solved'\n",
        "    directory = PATH + env_name\n",
        "    \n",
        "    env = gym.make(env_name)\n",
        "    state_dim = env.observation_space.shape[0]\n",
        "    action_dim = env.action_space.shape[0]\n",
        "    max_action = float(env.action_space.high[0])\n",
        "    \n",
        "    policy = TD3(lr, state_dim, action_dim, max_action)\n",
        "    \n",
        "    policy.load_actor(directory, filename)\n",
        "    \n",
        "    for ep in range(1, n_episodes+1):\n",
        "        ep_reward = 0\n",
        "        state = env.reset()\n",
        "        for t in range(max_timesteps):\n",
        "            action = policy.select_action(state)\n",
        "            state, reward, done, _ = env.step(action)\n",
        "            ep_reward += reward\n",
        "            if done:\n",
        "                break\n",
        "            \n",
        "        print('Episode: {}\\tReward: {}'.format(ep, int(ep_reward)))\n",
        "        ep_reward = 0\n",
        "        env.close()        "
      ]
    },
    {
      "cell_type": "code",
      "execution_count": null,
      "metadata": {
        "id": "rJB1Ey5O7oHT"
      },
      "outputs": [],
      "source": [
        "test()"
      ]
    },
    {
      "cell_type": "markdown",
      "metadata": {
        "id": "cclTXjMyFYJ1"
      },
      "source": [
        "# Wizualizacja\n",
        "Ten kod służy do wizualizacji wyników trenowania algorytmu TD3 na środowisku BipedalWalker-v3.\n",
        "\n",
        "Pierwsza linijka kodu oblicza kroczącą średnią nagród dla krzywej wyników, korzystając z biblioteki pandas.\n",
        "\n",
        "Następnie wizualizujemy krzywą wyników i jej kroczącą średnią na wykresie za pomocą biblioteki matplotlib. Oś X przedstawia liczbę epizodów, a oś Y nagrodę uzyskaną w każdym epizodzie.\n",
        "\n",
        "Krzywa \"Original Curve\" przedstawia wyniki uzyskane podczas treningu, a krzywa \"Average\" przedstawia kroczącą średnią wyników dla każdych dziesięciu kolejnych epizodów.\n",
        "\n",
        "Na końcu dodajemy etykiety osi i legendę wykresu, a następnie wyświetlamy wykres."
      ]
    },
    {
      "cell_type": "code",
      "execution_count": null,
      "metadata": {
        "id": "gjuF_eYU6n6a",
        "colab": {
          "base_uri": "https://localhost:8080/",
          "height": 449
        },
        "outputId": "db815c7e-8f32-43b8-e42a-b66490f1c2a9"
      },
      "outputs": [
        {
          "output_type": "display_data",
          "data": {
            "text/plain": [
              "<Figure size 640x480 with 1 Axes>"
            ],
            "image/png": "[encoded data removed]"
          },
          "metadata": {}
        }
      ],
      "source": [
        "# Plot of reward over time + rolling avarage of reward \n",
        "rolling_mean = pd.Series(curve).rolling(10).mean()\n",
        "\n",
        "plt.plot(list(range(len(curve))), curve, label='Original Curve')\n",
        "plt.plot(list(range(len(rolling_mean))), rolling_mean, label='Average')\n",
        "\n",
        "plt.xlabel(\"Episode\")\n",
        "plt.ylabel(\"Reward\")\n",
        "plt.legend()\n",
        "plt.show()"
      ]
    },
    {
      "cell_type": "markdown",
      "metadata": {
        "id": "mzJlmMt13SeQ"
      },
      "source": [
        "#Porównanie różnych współczynników dyskontowych\n",
        "\n",
        "Sprawdziliśmy współczynniki gamma 0.9, 0.99 i 0.999. Im wyższy współczynnik, tym szybciej algorytm się uczył. Przy współczynniku 0.999 prawie za każdym razem model szybko uzyskiwał satysfakcjonujące wyniki. Przy 0.99 czasami udało mu się nauczyć, a czasami nie. Przy współczynniku równym 0.9 nie udało nam się wytrenować naszego modelu."
      ]
    },
    {
      "cell_type": "markdown",
      "source": [
        "#Wnioski\n",
        "\n",
        "W naszej grze BipedalWalker zastosowaliśmy algorytm TD3, który doś dobrze radzi sobie z wyrenowaniem agenta dla podstawowego środowiska (bez dziur i schodów). Z naszych obserwacji wynikło, że jeżeli agent nie zacznie się uczyć po 200 epizodzie (jeżeli wartości nie wzrastały do -50) to należało przerwać uczenie i puścić od nowa. Średni czas uczenia naszego agenta dla podstawowej planszy wynoski 1.5-2 godziny. Przeprowadzaliśmy testy również dla trasy \"hardcore\", ale niestety nie wiedzieliśmy efektów uczenia nawet po odczekaniu 2000 epok, więc zaprzestaliśmy uczenia na tej planszy, bo zajmowało to zbyt długo. \n",
        "  "
      ],
      "metadata": {
        "id": "XyDZM0bXJftu"
      }
    }
  ],
  "metadata": {
    "accelerator": "GPU",
    "colab": {
      "provenance": [],
      "gpuType": "T4"
    },
    "gpuClass": "standard",
    "kernelspec": {
      "display_name": "Python 3",
      "name": "python3"
    },
    "language_info": {
      "name": "python"
    }
  },
  "nbformat": 4,
  "nbformat_minor": 0
}